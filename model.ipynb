{
 "cells": [
  {
   "cell_type": "markdown",
   "metadata": {},
   "source": [
    "This notebook encodes and decodes the MNIST database of handwritten digits from 0 to 9. It uses Pytorch library to implement neural networks. "
   ]
  },
  {
   "cell_type": "markdown",
   "metadata": {},
   "source": [
    "# Load Packages"
   ]
  },
  {
   "cell_type": "code",
   "execution_count": null,
   "metadata": {},
   "outputs": [],
   "source": [
    "import torch\n",
    "import torchvision\n",
    "from torch import nn\n",
    "from torchvision import transforms\n",
    "from torch.utils.data import DataLoader\n",
    "from torchvision.datasets import MNIST\n",
    "from tqdm import tqdm"
   ]
  },
  {
   "cell_type": "markdown",
   "metadata": {},
   "source": [
    "# Load Data"
   ]
  },
  {
   "cell_type": "code",
   "execution_count": null,
   "metadata": {},
   "outputs": [],
   "source": [
    "# The original MNIST dataset is not loading so this is a work around\n",
    "# https://stackoverflow.com/a/66820249/7038204\n",
    "MNIST.resources = [\n",
    "    ('https://ossci-datasets.s3.amazonaws.com/mnist/train-images-idx3-ubyte.gz', 'f68b3c2dcbeaaa9fbdd348bbdeb94873'),\n",
    "    ('https://ossci-datasets.s3.amazonaws.com/mnist/train-labels-idx1-ubyte.gz', 'd53e105ee54ea40749a09fcbcd1e9432'),\n",
    "    ('https://ossci-datasets.s3.amazonaws.com/mnist/t10k-images-idx3-ubyte.gz', '9fb629c4189551a2d022fa330f9573f3'),\n",
    "    ('https://ossci-datasets.s3.amazonaws.com/mnist/t10k-labels-idx1-ubyte.gz', 'ec29112dd5afa0611ce80d1b7f02629c')\n",
    "]"
   ]
  },
  {
   "cell_type": "code",
   "execution_count": null,
   "metadata": {},
   "outputs": [],
   "source": [
    "# Load and transform data\n",
    "batch_size = 32\n",
    "shuffle = False\n",
    "\n",
    "img_transform = transforms.Compose([\n",
    "    transforms.ToTensor(), \n",
    "#     transforms.Normalize([0.5], [0.5])\n",
    "    transforms.Normalize((0.1307,), (0.3081,))\n",
    "])\n",
    "\n",
    "train_dataset = MNIST('./data', transform=img_transform, download=True, train=True)\n",
    "val_dataset = MNIST('./data', transform=img_transform, download=True, train=False)\n",
    "\n",
    "train_dataloader = DataLoader(train_dataset, batch_size=batch_size, shuffle=shuffle)\n",
    "val_dataloader = DataLoader(val_dataset, batch_size=batch_size, shuffle=shuffle)"
   ]
  },
  {
   "cell_type": "markdown",
   "metadata": {},
   "source": [
    "# Architecture"
   ]
  },
  {
   "cell_type": "code",
   "execution_count": null,
   "metadata": {},
   "outputs": [],
   "source": [
    "class AutoEncoder(nn.Module):\n",
    "    def __init__(self, dim_latent_representation=2):\n",
    "        \n",
    "        super(AutoEncoder, self).__init__()\n",
    "        \n",
    "        class Encoder(nn.Module):\n",
    "            def __init__(self, out_size=2):\n",
    "                super(Encoder, self).__init__()\n",
    "                self.flatten = nn.Flatten()\n",
    "                self.first_layer = nn.Sequential(\n",
    "                    nn.Linear(in_features=28*28, out_features=1024),\n",
    "                    nn.ReLU()\n",
    "                )\n",
    "                self.second_layer = nn.Linear(in_features=1024, out_features=out_size)\n",
    "            \n",
    "            def forward(self, x):\n",
    "                x = self.flatten(x)\n",
    "                x = self.first_layer(x)\n",
    "                x = self.second_layer(x)\n",
    "                return x\n",
    "            \n",
    "        class Decoder(nn.Module):\n",
    "            def __init__(self, in_size=2):\n",
    "                super(Decoder, self).__init__()\n",
    "                self.first_layer = nn.Sequential(\n",
    "                    nn.Linear(in_features=in_size, out_features=1024),\n",
    "                    nn.ReLU()\n",
    "                )\n",
    "                self.second_layer = nn.Sequential(\n",
    "                    nn.Linear(in_features=1024, out_features=28*28),\n",
    "                    nn.Sigmoid()\n",
    "                )\n",
    "            \n",
    "            def forward(self, z):\n",
    "                z = self.first_layer(z)\n",
    "                z = self.second_layer(z)\n",
    "                z = z.reshape([z.shape[0],1,28,28])\n",
    "                return z\n",
    "            \n",
    "        self.encoder = Encoder(out_size=dim_latent_representation)\n",
    "        self.decoder = Decoder(in_size=dim_latent_representation)\n",
    "\n",
    "    def forward(self, x):\n",
    "        y = self.encoder(x)\n",
    "        z = self.decoder(y)\n",
    "        return z"
   ]
  },
  {
   "cell_type": "markdown",
   "metadata": {},
   "source": [
    "# Training"
   ]
  },
  {
   "cell_type": "code",
   "execution_count": null,
   "metadata": {},
   "outputs": [],
   "source": [
    "learning_rate = 1e-3\n",
    "weight_decay = 1e-5\n",
    "num_epochs = 10\n",
    "dim_latent_representation = 16\n",
    "\n",
    "loss_criterion = nn.MSELoss()\n",
    "device = torch.device(\"cuda\" if torch.cuda.is_available() else \"cpu\")\n",
    "model = AutoEncoder(dim_latent_representation=dim_latent_representation).to(device)\n",
    "optimizer = torch.optim.Adam(model.parameters(), lr=learning_rate, weight_decay=weight_decay)\n"
   ]
  },
  {
   "cell_type": "code",
   "execution_count": null,
   "metadata": {},
   "outputs": [],
   "source": [
    "def train(epoch):\n",
    "    total_loss = 0\n",
    "    for i, (img, _) in tqdm(enumerate(train_dataloader), total=len(train_dataloader)):\n",
    "        img = img.to(device)\n",
    "        optimizer.zero_grad()\n",
    "        \n",
    "        output = model(img)\n",
    "        loss = loss_criterion(output, img)\n",
    "        \n",
    "        loss.backward()\n",
    "        total_loss += loss.data\n",
    "        optimizer.step()\n",
    "    \n",
    "    num_batches = len(train_dataloader.dataset)/batch_size\n",
    "    training_loss = total_loss/num_batches\n",
    "    print('Epoch: {}; Training loss: {:.4f}'.format(epoch, training_loss))"
   ]
  },
  {
   "cell_type": "code",
   "execution_count": null,
   "metadata": {},
   "outputs": [],
   "source": [
    "def validate(epoch):\n",
    "    total_loss = 0\n",
    "    with torch.no_grad():\n",
    "        for i, (img, _) in tqdm(enumerate(val_dataloader), total=len(val_dataloader)):\n",
    "            img = img.to(device)\n",
    "            output = model(img)\n",
    "            loss = loss_criterion(output, img)\n",
    "            total_loss += loss.data\n",
    "    \n",
    "    num_batches = len(val_dataloader.dataset)/batch_size\n",
    "    val_loss = total_loss/num_batches\n",
    "    print('Epoch: {}; Validation loss: {:.4f}'.format(epoch, val_loss))"
   ]
  },
  {
   "cell_type": "code",
   "execution_count": null,
   "metadata": {},
   "outputs": [],
   "source": [
    "for epoch in range(1, num_epochs+1):\n",
    "    train(epoch)\n",
    "    validate(epoch)"
   ]
  },
  {
   "cell_type": "markdown",
   "metadata": {},
   "source": [
    "# Reconstructing images"
   ]
  },
  {
   "cell_type": "code",
   "execution_count": null,
   "metadata": {},
   "outputs": [],
   "source": [
    "# Display 28 * 28 images in a row from a numpy array\n",
    "from torchvision.utils import save_image\n",
    "import matplotlib.pyplot as plt\n",
    "import matplotlib.image as mpimg\n",
    "\n",
    "def display_images(images, file_path='./tmp.png', display=True):\n",
    "    save_image(images.view(-1, 1, 28, 28),'{}'.format(file_path))\n",
    "    \n",
    "    if display:\n",
    "        plt.imshow(mpimg.imread('{}'.format(file_path)))\n"
   ]
  },
  {
   "cell_type": "code",
   "execution_count": null,
   "metadata": {},
   "outputs": [],
   "source": [
    "# Show original images.\n",
    "num_images = 64\n",
    "original_images = torch.vstack([x for x,_ in val_dataloader])\n",
    "original_images = original_images[:num_images]\n",
    "\n",
    "print(\"Original images\")\n",
    "display_images(original_images.to(device))"
   ]
  },
  {
   "cell_type": "code",
   "execution_count": null,
   "metadata": {},
   "outputs": [],
   "source": [
    "# Show reconstructed images.\n",
    "with torch.no_grad():\n",
    "    original_images = original_images.to(device)\n",
    "    reconstructed_images = model(original_images).to(device)\n",
    "\n",
    "print(\"Reconstructed images\")\n",
    "display_images(reconstructed_images)"
   ]
  }
 ],
 "metadata": {
  "kernelspec": {
   "display_name": "Python 3",
   "language": "python",
   "name": "python3"
  },
  "language_info": {
   "codemirror_mode": {
    "name": "ipython",
    "version": 3
   },
   "file_extension": ".py",
   "mimetype": "text/x-python",
   "name": "python",
   "nbconvert_exporter": "python",
   "pygments_lexer": "ipython3",
   "version": "3.8.5"
  }
 },
 "nbformat": 4,
 "nbformat_minor": 4
}
